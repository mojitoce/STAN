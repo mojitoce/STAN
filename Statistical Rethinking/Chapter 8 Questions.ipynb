{
 "cells": [
  {
   "cell_type": "markdown",
   "metadata": {},
   "source": [
    "# H1"
   ]
  },
  {
   "cell_type": "code",
   "execution_count": 3,
   "metadata": {
    "collapsed": true
   },
   "outputs": [
    {
     "name": "stderr",
     "output_type": "stream",
     "text": [
      "\n",
      "Attaching package: 'data.table'\n",
      "\n",
      "The following objects are masked from 'package:dplyr':\n",
      "\n",
      "    between, first, last\n",
      "\n"
     ]
    }
   ],
   "source": [
    "library(rethinking)\n",
    "library(plyr)\n",
    "library(dplyr)\n",
    "library(data.table)"
   ]
  },
  {
   "cell_type": "code",
   "execution_count": 4,
   "metadata": {},
   "outputs": [
    {
     "name": "stdout",
     "output_type": "stream",
     "text": [
      "\n",
      "SAMPLING FOR MODEL 'a ~ dnorm(0, 1)' NOW (CHAIN 1).\n",
      "Chain 1: \n",
      "Chain 1: Gradient evaluation took 0 seconds\n",
      "Chain 1: 1000 transitions using 10 leapfrog steps per transition would take 0 seconds.\n",
      "Chain 1: Adjust your expectations accordingly!\n",
      "Chain 1: \n",
      "Chain 1: \n",
      "Chain 1: WARNING: There aren't enough warmup iterations to fit the\n",
      "Chain 1:          three stages of adaptation as currently configured.\n",
      "Chain 1:          Reducing each adaptation stage to 15%/75%/10% of\n",
      "Chain 1:          the given number of warmup iterations:\n",
      "Chain 1:            init_buffer = 15\n",
      "Chain 1:            adapt_window = 75\n",
      "Chain 1:            term_buffer = 10\n",
      "Chain 1: \n",
      "Chain 1: Iteration:    1 / 10000 [  0%]  (Warmup)\n",
      "Chain 1: Iteration:  101 / 10000 [  1%]  (Sampling)\n",
      "Chain 1: Iteration: 1100 / 10000 [ 11%]  (Sampling)\n",
      "Chain 1: Iteration: 2100 / 10000 [ 21%]  (Sampling)\n",
      "Chain 1: Iteration: 3100 / 10000 [ 31%]  (Sampling)\n",
      "Chain 1: Iteration: 4100 / 10000 [ 41%]  (Sampling)\n",
      "Chain 1: Iteration: 5100 / 10000 [ 51%]  (Sampling)\n",
      "Chain 1: Iteration: 6100 / 10000 [ 61%]  (Sampling)\n",
      "Chain 1: Iteration: 7100 / 10000 [ 71%]  (Sampling)\n",
      "Chain 1: Iteration: 8100 / 10000 [ 81%]  (Sampling)\n",
      "Chain 1: Iteration: 9100 / 10000 [ 91%]  (Sampling)\n",
      "Chain 1: Iteration: 10000 / 10000 [100%]  (Sampling)\n",
      "Chain 1: \n",
      "Chain 1:  Elapsed Time: 0.002 seconds (Warm-up)\n",
      "Chain 1:                0.326 seconds (Sampling)\n",
      "Chain 1:                0.328 seconds (Total)\n",
      "Chain 1: \n"
     ]
    },
    {
     "name": "stderr",
     "output_type": "stream",
     "text": [
      "Warning message:\n",
      "\"There were 28 transitions after warmup that exceeded the maximum treedepth. Increase max_treedepth above 10. See\n",
      "http://mc-stan.org/misc/warnings.html#maximum-treedepth-exceeded\"Warning message:\n",
      "\"Examine the pairs() plot to diagnose sampling problems\n",
      "\""
     ]
    },
    {
     "name": "stdout",
     "output_type": "stream",
     "text": [
      "\n",
      "SAMPLING FOR MODEL 'a ~ dnorm(0, 1)' NOW (CHAIN 1).\n",
      "Chain 1: \n",
      "Chain 1: Gradient evaluation took 0 seconds\n",
      "Chain 1: 1000 transitions using 10 leapfrog steps per transition would take 0 seconds.\n",
      "Chain 1: Adjust your expectations accordingly!\n",
      "Chain 1: \n",
      "Chain 1: \n",
      "Chain 1: WARNING: No variance estimation is\n",
      "Chain 1:          performed for num_warmup < 20\n",
      "Chain 1: \n",
      "Chain 1: Iteration: 1 / 1 [100%]  (Sampling)\n",
      "Chain 1: \n",
      "Chain 1:  Elapsed Time: 0 seconds (Warm-up)\n",
      "Chain 1:                0 seconds (Sampling)\n",
      "Chain 1:                0 seconds (Total)\n",
      "Chain 1: \n"
     ]
    }
   ],
   "source": [
    "mp <- map2stan(\n",
    "    alist(\n",
    "        a ~ dnorm(0, 1),\n",
    "        b ~ dcauchy(0, 1)\n",
    "    ),\n",
    "    data = list(y = 1), \n",
    "    start = list(a = 0, b = 0),\n",
    "    iter = 1e4, warmup = 100, WAIC = F\n",
    ")"
   ]
  },
  {
   "cell_type": "code",
   "execution_count": 8,
   "metadata": {},
   "outputs": [
    {
     "data": {
      "text/plain": [
       "   Mean StdDev lower 0.89 upper 0.89 n_eff Rhat\n",
       "a  0.01   1.00      -1.55       1.63  9948    1\n",
       "b -0.42 224.74      -7.04       7.65   349    1"
      ]
     },
     "metadata": {},
     "output_type": "display_data"
    },
    {
     "data": {
      "image/png": "[encoded data removed]",
      "text/plain": [
       "plot without title"
      ]
     },
     "metadata": {},
     "output_type": "display_data"
    }
   ],
   "source": [
    "precis(mp)\n",
    "\n",
    "post <- extract.samples(mp)\n",
    "pairs(post)"
   ]
  },
  {
   "cell_type": "code",
   "execution_count": 10,
   "metadata": {},
   "outputs": [
    {
     "name": "stdout",
     "output_type": "stream",
     "text": [
      "map2stan model fit\n",
      "9900 samples from 1 chain\n",
      "\n",
      "Formula:\n",
      "a ~ dnorm(0, 1)\n",
      "b ~ dcauchy(0, 1)\n",
      "\n",
      "Log-likelihood at expected values: 0 \n",
      "Deviance: 0 \n",
      "DIC: 0 \n",
      "Effective number of parameters (pD): 0 \n"
     ]
    },
    {
     "data": {
      "image/png": "[encoded data removed]",
      "text/plain": [
       "plot without title"
      ]
     },
     "metadata": {},
     "output_type": "display_data"
    }
   ],
   "source": [
    "show(mp)\n",
    "plot(mp)"
   ]
  },
  {
   "cell_type": "code",
   "execution_count": 11,
   "metadata": {},
   "outputs": [
    {
     "name": "stdout",
     "output_type": "stream",
     "text": [
      "data{\n",
      "    int<lower=1> N;\n",
      "}\n",
      "parameters{\n",
      "    real a;\n",
      "    real b;\n",
      "}\n",
      "model{\n",
      "    b ~ cauchy( 0 , 1 );\n",
      "    a ~ normal( 0 , 1 );\n",
      "}\n",
      "generated quantities{\n",
      "    real dev;\n",
      "    dev = 0;\n",
      "}\n"
     ]
    }
   ],
   "source": [
    "stancode(mp)"
   ]
  },
  {
   "cell_type": "markdown",
   "metadata": {},
   "source": [
    "Cauchy distribution has much fatter tails so it's more probable to see extreme values in the traceplot for b compared to the traceplot for b that has a normal prior."
   ]
  },
  {
   "cell_type": "markdown",
   "metadata": {},
   "source": [
    "# H2"
   ]
  },
  {
   "cell_type": "code",
   "execution_count": null,
   "metadata": {},
   "outputs": [],
   "source": []
  },
  {
   "cell_type": "code",
   "execution_count": null,
   "metadata": {},
   "outputs": [],
   "source": []
  },
  {
   "cell_type": "code",
   "execution_count": null,
   "metadata": {},
   "outputs": [],
   "source": []
  },
  {
   "cell_type": "code",
   "execution_count": null,
   "metadata": {},
   "outputs": [],
   "source": []
  }
 ],
 "metadata": {
  "kernelspec": {
   "display_name": "R",
   "language": "R",
   "name": "ir"
  },
  "language_info": {
   "codemirror_mode": "r",
   "file_extension": ".r",
   "mimetype": "text/x-r-source",
   "name": "R",
   "pygments_lexer": "r",
   "version": "3.5.1"
  }
 },
 "nbformat": 4,
 "nbformat_minor": 2
}
