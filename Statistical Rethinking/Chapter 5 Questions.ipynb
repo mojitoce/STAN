{
 "cells": [
  {
   "cell_type": "markdown",
   "metadata": {},
   "source": [
    "# Chapter 5 Questions\n",
    "## Medium"
   ]
  },
  {
   "cell_type": "markdown",
   "metadata": {},
   "source": [
    "## M.1\n",
    "Example of a Spurious Correlation <br>\n",
    "Outcome: Depression rates per country <br>\n",
    "Predictors: Average hours of darkness per day & Number of Books written per Capita <br>\n",
    "Both seem to be positively correlated to the outcome <br>\n",
    "When regressed together the effect of number of books per capita disappears as it's positively correlated with the other predictor\n"
   ]
  },
  {
   "cell_type": "markdown",
   "metadata": {},
   "source": [
    "## M.2\n",
    "Example of a Masked Relationship <br>\n"
   ]
  },
  {
   "cell_type": "markdown",
   "metadata": {},
   "source": [
    "## M.3\n",
    "How might a high divorce rate cause a higher marriage? <br>\n",
    "Flipping the association around a high divorce rate might cause a higher marriage rate as, it might mean a few things: <br>\n",
    "- People who have divorced might be more propense to remarry, creating a double counting in marriage rate\n",
    "- Might be a culture where marriage is widespread"
   ]
  },
  {
   "cell_type": "markdown",
   "metadata": {},
   "source": [
    "## Hard\n",
    "## H.1"
   ]
  },
  {
   "cell_type": "code",
   "execution_count": 34,
   "metadata": {},
   "outputs": [
    {
     "name": "stdout",
     "output_type": "stream",
     "text": [
      "'data.frame':\t116 obs. of  5 variables:\n",
      " $ group    : int  1 1 2 2 3 3 4 4 5 5 ...\n",
      " $ avgfood  : num  0.37 0.37 0.53 0.53 0.49 0.49 0.45 0.45 0.74 0.74 ...\n",
      " $ groupsize: int  2 2 2 2 2 2 2 2 3 3 ...\n",
      " $ area     : num  1.09 1.09 2.05 2.05 2.12 2.12 1.29 1.29 3.78 3.78 ...\n",
      " $ weight   : num  5.02 2.84 5.33 6.07 5.85 3.25 4.53 4.09 6.13 5.59 ...\n"
     ]
    },
    {
     "data": {
      "text/plain": [
       "     group          avgfood         groupsize          area      \n",
       " Min.   : 1.00   Min.   :0.3700   Min.   :2.000   Min.   :1.090  \n",
       " 1st Qu.:11.75   1st Qu.:0.6600   1st Qu.:3.000   1st Qu.:2.590  \n",
       " Median :18.00   Median :0.7350   Median :4.000   Median :3.130  \n",
       " Mean   :17.21   Mean   :0.7517   Mean   :4.345   Mean   :3.169  \n",
       " 3rd Qu.:24.00   3rd Qu.:0.8000   3rd Qu.:5.000   3rd Qu.:3.772  \n",
       " Max.   :30.00   Max.   :1.2100   Max.   :8.000   Max.   :5.070  \n",
       "     weight     \n",
       " Min.   :1.920  \n",
       " 1st Qu.:3.720  \n",
       " Median :4.420  \n",
       " Mean   :4.530  \n",
       " 3rd Qu.:5.375  \n",
       " Max.   :7.550  "
      ]
     },
     "metadata": {},
     "output_type": "display_data"
    }
   ],
   "source": [
    "library(rethinking)\n",
    "library(plyr)\n",
    "library(dplyr)\n",
    "data(foxes)\n",
    "d <- foxes\n",
    "str(d)\n",
    "\n",
    "summary(d)"
   ]
  },
  {
   "cell_type": "code",
   "execution_count": 28,
   "metadata": {},
   "outputs": [
    {
     "data": {
      "text/plain": [
       "       Mean StdDev   5.5% 94.5%\n",
       "a     4.444  0.390  3.820 5.068\n",
       "ba    0.027  0.118 -0.162 0.216\n",
       "sigma 1.179  0.077  1.055 1.302"
      ]
     },
     "metadata": {},
     "output_type": "display_data"
    },
    {
     "name": "stdout",
     "output_type": "stream",
     "text": [
      "[ 100 / 1000 ]\r",
      "[ 200 / 1000 ]\r",
      "[ 300 / 1000 ]\r",
      "[ 400 / 1000 ]\r",
      "[ 500 / 1000 ]\r",
      "[ 600 / 1000 ]\r",
      "[ 700 / 1000 ]\r",
      "[ 800 / 1000 ]\r",
      "[ 900 / 1000 ]\r",
      "[ 1000 / 1000 ]\r\n"
     ]
    },
    {
     "data": {
      "image/png": "[encoded data removed]",
      "text/plain": [
       "plot without title"
      ]
     },
     "metadata": {},
     "output_type": "display_data"
    }
   ],
   "source": [
    "m.area <- map(\n",
    "  alist(\n",
    "    weight ~ dnorm(mu, sigma),\n",
    "    mu  <- a + ba * area,\n",
    "    a ~ dnorm(0, 10),\n",
    "    ba ~ dnorm(0, 5),\n",
    "    sigma ~ dunif(0, 10)\n",
    "  ), data = d)\n",
    "precis(m.area, digits = 3)\n",
    "\n",
    "area.seq <- seq(from = min(d$area), to = max(d$area), length.out = 100)\n",
    "pred.data <- data.frame(area = area.seq)\n",
    "mu <- link(m.area, data = pred.data)\n",
    "mu.mean <- apply(mu, 2, mean)\n",
    "mu.PI <- apply(mu, 2, PI, prob = 0.95)\n",
    "\n",
    "plot(weight ~ area, d, col = col.alpha(rangi2, 0.5))\n",
    "lines(area.seq, mu.mean)\n",
    "shade(mu.PI, area.seq)"
   ]
  },
  {
   "cell_type": "code",
   "execution_count": 33,
   "metadata": {},
   "outputs": [
    {
     "data": {
      "text/plain": [
       "        Mean StdDev   5.5%  94.5%\n",
       "a      5.063  0.325  4.544  5.581\n",
       "bg    -0.123  0.070 -0.235 -0.010\n",
       "sigma  1.164  0.076  1.041  1.286"
      ]
     },
     "metadata": {},
     "output_type": "display_data"
    },
    {
     "name": "stdout",
     "output_type": "stream",
     "text": [
      "[ 100 / 1000 ]\r",
      "[ 200 / 1000 ]\r",
      "[ 300 / 1000 ]\r",
      "[ 400 / 1000 ]\r",
      "[ 500 / 1000 ]\r",
      "[ 600 / 1000 ]\r",
      "[ 700 / 1000 ]\r",
      "[ 800 / 1000 ]\r",
      "[ 900 / 1000 ]\r",
      "[ 1000 / 1000 ]\r\n"
     ]
    },
    {
     "data": {
      "image/png": "[encoded data removed]",
      "text/plain": [
       "plot without title"
      ]
     },
     "metadata": {},
     "output_type": "display_data"
    }
   ],
   "source": [
    "m.gs <- map(\n",
    "  alist(\n",
    "    weight ~ dnorm(mu, sigma),\n",
    "    mu  <- a + bg * groupsize,\n",
    "    a ~ dnorm(0, 10),\n",
    "    bg ~ dnorm(0, 5),\n",
    "    sigma ~ dunif(0, 10)\n",
    "  ), data = d)\n",
    "precis(m.gs, digits = 3)\n",
    "\n",
    "groupsize.seq <- seq(from = min(d$groupsize), to = max(d$groupsize), length.out = 100)\n",
    "pred.data <- data.frame(area = area.seq)\n",
    "mu <- link(m.area, data = pred.data)\n",
    "mu.mean <- apply(mu, 2, mean)\n",
    "mu.PI <- apply(mu, 2, PI, prob = 0.95)\n",
    "\n",
    "plot(weight ~ groupsize, d, col = col.alpha(rangi2, 0.5))\n",
    "lines(groupsize.seq, mu.mean)\n",
    "shade(mu.PI, groupsize.seq)"
   ]
  },
  {
   "cell_type": "markdown",
   "metadata": {},
   "source": [
    "Both variables are pretty bad at predicting weight. <br>\n",
    "The intercept for Area is 4.44, which means that at area of 0 the model predicts the fox will have a weight of 4.44. The slope for area is 0.027, which means that to have lower weight than this (min weight in dataset is 1.92) the fox will need to leave in an area with negative weight (Impossible!). <br>\n",
    "Furthermore, max area is 5.070 which means that the model will predict a weight of around 4.57 where max weight is 7. So the model is not a very good predictor of weight. <br>\n",
    "Same argument can be made for the groupsize model."
   ]
  },
  {
   "cell_type": "markdown",
   "metadata": {},
   "source": [
    "## H2\n",
    "\n",
    "Run all of the code without normalizing and I think I'll get "
   ]
  },
  {
   "cell_type": "code",
   "execution_count": 38,
   "metadata": {},
   "outputs": [
    {
     "data": {
      "text/plain": [
       "       Mean StdDev  5.5% 94.5%\n",
       "a      4.45   0.37  3.85  5.04\n",
       "ba     0.62   0.20  0.30  0.94\n",
       "bg    -0.43   0.12 -0.62 -0.24\n",
       "sigma  1.12   0.07  1.00  1.24"
      ]
     },
     "metadata": {},
     "output_type": "display_data"
    },
    {
     "name": "stdout",
     "output_type": "stream",
     "text": [
      "[ 1000 / 1000 ]\n",
      "[ 10000 / 10000 ]\n",
      "[ 1000 / 1000 ]\n",
      "[ 10000 / 10000 ]\n"
     ]
    }
   ],
   "source": [
    "m.multi <- map(\n",
    "  alist(\n",
    "    weight ~ dnorm(mu, sigma),\n",
    "    mu  <- a + ba * area + bg * groupsize,\n",
    "    a ~ dnorm(0, 10),\n",
    "    ba ~ dnorm(0, 5),\n",
    "    bg ~ dnorm(0, 5),\n",
    "    sigma ~ dunif(0, 10)\n",
    "  ), data = d)\n",
    "precis(m.multi)\n",
    "\n",
    "area.avg <- mean(d$area)\n",
    "gs.avg <- mean(d$groupsize)\n",
    "gs.seq <- seq(from = min(d$groupsize), to = max(d$groupsize), length.out = 100)\n",
    "area.seq <- seq(from = min(d$area), to = max(d$area), length.out = 100)\n",
    "\n",
    "data.pred.area <- data.frame(groupsize = gs.avg, area = area.seq)\n",
    "data.pred.gs <- data.frame(groupsize = gs.seq, area = area.avg)\n",
    "\n",
    "mu.area <- link(m.multi, data.pred.area)\n",
    "mu.a.mean <- apply(mu.area, 2, mean)\n",
    "mu.a.PI <- apply(mu.area, 2, PI, prob = 0.95)\n",
    "R.a.sim <- sim(m.multi, data = data.pred.area, n = 1e4)\n",
    "R.a.PI <- apply(R.a.sim, 2, PI)\n",
    "\n",
    "mu.gs <- link(m.multi, data.pred.gs)\n",
    "mu.gs.mean <- apply(mu.gs, 2, mean)\n",
    "mu.gs.PI <- apply(mu.gs, 2, PI, prob = 0.95)\n",
    "R.gs.sim <- sim(m.multi, data = data.pred.gs, n = 1e4)\n",
    "R.gs.PI <- apply(R.gs.sim, 2, PI)"
   ]
  },
  {
   "cell_type": "code",
   "execution_count": 39,
   "metadata": {},
   "outputs": [
    {
     "data": {
      "image/png": "[encoded data removed]",
      "text/plain": [
       "plot without title"
      ]
     },
     "metadata": {},
     "output_type": "display_data"
    }
   ],
   "source": [
    "plot(weight ~ area, data = d)\n",
    "mtext('Groupsize = 0')\n",
    "lines(area.seq, mu.a.mean)\n",
    "shade(mu.a.PI, area.seq)\n",
    "shade(R.a.PI, area.seq)"
   ]
  },
  {
   "cell_type": "code",
   "execution_count": 40,
   "metadata": {},
   "outputs": [
    {
     "data": {
      "image/png": "[encoded data removed]",
      "text/plain": [
       "plot without title"
      ]
     },
     "metadata": {},
     "output_type": "display_data"
    }
   ],
   "source": [
    "plot(weight ~ groupsize, data = d)\n",
    "mtext('Area = 0')\n",
    "lines(gs.seq, mu.gs.mean)\n",
    "shade(mu.gs.PI, gs.seq)\n",
    "shade(R.gs.PI, gs.seq)"
   ]
  },
  {
   "cell_type": "markdown",
   "metadata": {},
   "source": [
    "When including both variables they seem to have a much more significant effect on weight. Groupsize has a negative effective on weight while the size of the area has a positive one. <br>\n",
    "\n",
    "## H3\n",
    "\n"
   ]
  },
  {
   "cell_type": "code",
   "execution_count": 50,
   "metadata": {},
   "outputs": [
    {
     "data": {
      "text/plain": [
       "       Mean StdDev  5.5% 94.5%\n",
       "a      4.17   0.43  3.49  4.85\n",
       "bf     3.63   1.18  1.74  5.51\n",
       "bg    -0.54   0.15 -0.79 -0.30\n",
       "sigma  1.12   0.07  1.00  1.23"
      ]
     },
     "metadata": {},
     "output_type": "display_data"
    },
    {
     "name": "stdout",
     "output_type": "stream",
     "text": [
      "[ 1000 / 1000 ]\n",
      "[ 10000 / 10000 ]\n"
     ]
    },
    {
     "data": {
      "image/png": "[encoded data removed]",
      "text/plain": [
       "plot without title"
      ]
     },
     "metadata": {},
     "output_type": "display_data"
    }
   ],
   "source": [
    "# Bodyweight against avgfood and groupsize\n",
    "m.foodgs <- map(\n",
    "  alist(\n",
    "    weight ~ dnorm(mu, sigma),\n",
    "    mu  <- a + bf * avgfood + bg * groupsize,\n",
    "    a ~ dnorm(0, 10),\n",
    "    bf ~ dnorm(0, 5),\n",
    "    bg ~ dnorm(0, 5),\n",
    "    sigma ~ dunif(0, 10)\n",
    "  ), data = d)\n",
    "precis(m.foodgs)\n",
    "\n",
    "\n",
    "food.seq  <- seq(from = min(d$avgfood), to = max(d$avgfood), length.out = 100)\n",
    "data.pred.food <- data.frame(groupsize = gs.avg, avgfood = food.seq)\n",
    "\n",
    "\n",
    "mu.food <- link(m.foodgs, data.pred.food)\n",
    "mu.f.mean <- apply(mu.food, 2, mean)\n",
    "mu.f.PI <- apply(mu.food, 2, PI, prob = 0.95)\n",
    "R.f.sim <- sim(m.foodgs, data = data.pred.food, n = 1e4)\n",
    "R.f.PI <- apply(R.f.sim, 2, PI)\n",
    "\n",
    "plot(weight ~ avgfood, data = d)\n",
    "mtext('Groupsize = 0')\n",
    "lines(food.seq, mu.f.mean)\n",
    "shade(mu.f.PI, food.seq)\n",
    "shade(R.f.PI, food.seq)"
   ]
  },
  {
   "cell_type": "code",
   "execution_count": 47,
   "metadata": {},
   "outputs": [
    {
     "data": {
      "text/plain": [
       "           Mean  StdDev      5.5%    94.5%\n",
       "a          1.37    0.23      1.00     1.75\n",
       "bf         3.88    1.63      1.27     6.48\n",
       "ba    -17207.32 8388.61 -30613.94 -3800.71\n",
       "bg        -0.98    0.17     -1.26    -0.71\n",
       "sigma      1.33    0.09      1.19     1.47"
      ]
     },
     "metadata": {},
     "output_type": "display_data"
    }
   ],
   "source": [
    "# Bodyweight against avgfood, groupsize and area\n",
    "m.all <- map(\n",
    "  alist(\n",
    "    weight ~ dnorm(mu, sigma),\n",
    "    mu  <- a + bf * avgfood + bg * groupsize + a * area,\n",
    "    a ~ dnorm(0, 10),\n",
    "    bf ~ dnorm(0, 5),\n",
    "    ba ~ dnorm(0, 10000),\n",
    "    bg ~ dnorm(0, 5),\n",
    "    sigma ~ dunif(0, 10)\n",
    "  ), data = d)\n",
    "precis(m.all)"
   ]
  },
  {
   "cell_type": "markdown",
   "metadata": {},
   "source": []
  }
 ],
 "metadata": {
  "kernelspec": {
   "display_name": "R",
   "language": "R",
   "name": "ir"
  },
  "language_info": {
   "codemirror_mode": "r",
   "file_extension": ".r",
   "mimetype": "text/x-r-source",
   "name": "R",
   "pygments_lexer": "r",
   "version": "3.5.1"
  }
 },
 "nbformat": 4,
 "nbformat_minor": 2
}
